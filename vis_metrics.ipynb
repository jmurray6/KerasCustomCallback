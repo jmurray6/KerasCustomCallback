{
 "cells": [
  {
   "cell_type": "code",
   "execution_count": 17,
   "metadata": {},
   "outputs": [],
   "source": [
    "\n",
    "import pandas as pd\n",
    "import psycopg2\n",
    "import matplotlib as plt\n"
   ]
  },
  {
   "cell_type": "code",
   "execution_count": 18,
   "metadata": {},
   "outputs": [],
   "source": [
    "conn = psycopg2.connect(database=\"mt_metrics\",\n",
    "                        host=\"localhost\",\n",
    "                        user=\"USER\",\n",
    "                        password=\"PASSWORD\",\n",
    "                        port=5432)\n",
    "conn.autocommit = True\n"
   ]
  },
  {
   "cell_type": "code",
   "execution_count": 19,
   "metadata": {},
   "outputs": [
    {
     "name": "stderr",
     "output_type": "stream",
     "text": [
      "/var/folders/tl/tcgv4w050yj5nx3f9m3gwx6w0000gn/T/ipykernel_12146/2530636970.py:1: UserWarning: pandas only supports SQLAlchemy connectable (engine/connection) or database string URI or sqlite3 DBAPI2 connection. Other DBAPI2 objects are not tested. Please consider using SQLAlchemy.\n",
      "  df = pd.read_sql_query('select t.model_id, m.model_name, m.model_type, t.training_date, t.training_duration, t.epochs, t.learning_rate, t.accuracy, t.loss from training t INNER JOIN models m ON t.model_id=m.model_id', con=conn)\n"
     ]
    }
   ],
   "source": [
    "df = pd.read_sql_query('select t.model_id, m.model_name, m.model_type, t.training_date, t.training_duration, t.epochs, t.learning_rate, t.accuracy, t.loss from training t INNER JOIN models m ON t.model_id=m.model_id', con=conn)"
   ]
  },
  {
   "cell_type": "markdown",
   "metadata": {},
   "source": []
  },
  {
   "cell_type": "code",
   "execution_count": 20,
   "metadata": {},
   "outputs": [
    {
     "ename": "KeyError",
     "evalue": "'accuracy_list'",
     "output_type": "error",
     "traceback": [
      "\u001b[0;31m---------------------------------------------------------------------------\u001b[0m",
      "\u001b[0;31mKeyError\u001b[0m                                  Traceback (most recent call last)",
      "File \u001b[0;32m~/miniconda3/envs/ccb/lib/python3.10/site-packages/pandas/core/indexes/base.py:3791\u001b[0m, in \u001b[0;36mIndex.get_loc\u001b[0;34m(self, key)\u001b[0m\n\u001b[1;32m   3790\u001b[0m \u001b[38;5;28;01mtry\u001b[39;00m:\n\u001b[0;32m-> 3791\u001b[0m     \u001b[38;5;28;01mreturn\u001b[39;00m \u001b[38;5;28;43mself\u001b[39;49m\u001b[38;5;241;43m.\u001b[39;49m\u001b[43m_engine\u001b[49m\u001b[38;5;241;43m.\u001b[39;49m\u001b[43mget_loc\u001b[49m\u001b[43m(\u001b[49m\u001b[43mcasted_key\u001b[49m\u001b[43m)\u001b[49m\n\u001b[1;32m   3792\u001b[0m \u001b[38;5;28;01mexcept\u001b[39;00m \u001b[38;5;167;01mKeyError\u001b[39;00m \u001b[38;5;28;01mas\u001b[39;00m err:\n",
      "File \u001b[0;32mindex.pyx:152\u001b[0m, in \u001b[0;36mpandas._libs.index.IndexEngine.get_loc\u001b[0;34m()\u001b[0m\n",
      "File \u001b[0;32mindex.pyx:181\u001b[0m, in \u001b[0;36mpandas._libs.index.IndexEngine.get_loc\u001b[0;34m()\u001b[0m\n",
      "File \u001b[0;32mpandas/_libs/hashtable_class_helper.pxi:7080\u001b[0m, in \u001b[0;36mpandas._libs.hashtable.PyObjectHashTable.get_item\u001b[0;34m()\u001b[0m\n",
      "File \u001b[0;32mpandas/_libs/hashtable_class_helper.pxi:7088\u001b[0m, in \u001b[0;36mpandas._libs.hashtable.PyObjectHashTable.get_item\u001b[0;34m()\u001b[0m\n",
      "\u001b[0;31mKeyError\u001b[0m: 'accuracy_list'",
      "\nThe above exception was the direct cause of the following exception:\n",
      "\u001b[0;31mKeyError\u001b[0m                                  Traceback (most recent call last)",
      "Cell \u001b[0;32mIn[20], line 2\u001b[0m\n\u001b[1;32m      1\u001b[0m df\n\u001b[0;32m----> 2\u001b[0m df[\u001b[38;5;124m'\u001b[39m\u001b[38;5;124maccuracy_list\u001b[39m\u001b[38;5;124m'\u001b[39m] \u001b[38;5;241m=\u001b[39m \u001b[43mdf\u001b[49m\u001b[43m[\u001b[49m\u001b[38;5;124;43m'\u001b[39;49m\u001b[38;5;124;43maccuracy_list\u001b[39;49m\u001b[38;5;124;43m'\u001b[39;49m\u001b[43m]\u001b[49m\u001b[38;5;241m.\u001b[39mapply(pd\u001b[38;5;241m.\u001b[39mto_numeric, downcast\u001b[38;5;241m=\u001b[39m\u001b[38;5;124m'\u001b[39m\u001b[38;5;124mfloat\u001b[39m\u001b[38;5;124m'\u001b[39m)\n\u001b[1;32m      3\u001b[0m df[\u001b[38;5;124m'\u001b[39m\u001b[38;5;124mloss_list\u001b[39m\u001b[38;5;124m'\u001b[39m] \u001b[38;5;241m=\u001b[39m df[\u001b[38;5;124m'\u001b[39m\u001b[38;5;124mloss_list\u001b[39m\u001b[38;5;124m'\u001b[39m]\u001b[38;5;241m.\u001b[39mapply(pd\u001b[38;5;241m.\u001b[39mto_numeric, downcast\u001b[38;5;241m=\u001b[39m\u001b[38;5;124m'\u001b[39m\u001b[38;5;124mfloat\u001b[39m\u001b[38;5;124m'\u001b[39m)\n",
      "File \u001b[0;32m~/miniconda3/envs/ccb/lib/python3.10/site-packages/pandas/core/frame.py:3893\u001b[0m, in \u001b[0;36mDataFrame.__getitem__\u001b[0;34m(self, key)\u001b[0m\n\u001b[1;32m   3891\u001b[0m \u001b[38;5;28;01mif\u001b[39;00m \u001b[38;5;28mself\u001b[39m\u001b[38;5;241m.\u001b[39mcolumns\u001b[38;5;241m.\u001b[39mnlevels \u001b[38;5;241m>\u001b[39m \u001b[38;5;241m1\u001b[39m:\n\u001b[1;32m   3892\u001b[0m     \u001b[38;5;28;01mreturn\u001b[39;00m \u001b[38;5;28mself\u001b[39m\u001b[38;5;241m.\u001b[39m_getitem_multilevel(key)\n\u001b[0;32m-> 3893\u001b[0m indexer \u001b[38;5;241m=\u001b[39m \u001b[38;5;28;43mself\u001b[39;49m\u001b[38;5;241;43m.\u001b[39;49m\u001b[43mcolumns\u001b[49m\u001b[38;5;241;43m.\u001b[39;49m\u001b[43mget_loc\u001b[49m\u001b[43m(\u001b[49m\u001b[43mkey\u001b[49m\u001b[43m)\u001b[49m\n\u001b[1;32m   3894\u001b[0m \u001b[38;5;28;01mif\u001b[39;00m is_integer(indexer):\n\u001b[1;32m   3895\u001b[0m     indexer \u001b[38;5;241m=\u001b[39m [indexer]\n",
      "File \u001b[0;32m~/miniconda3/envs/ccb/lib/python3.10/site-packages/pandas/core/indexes/base.py:3798\u001b[0m, in \u001b[0;36mIndex.get_loc\u001b[0;34m(self, key)\u001b[0m\n\u001b[1;32m   3793\u001b[0m     \u001b[38;5;28;01mif\u001b[39;00m \u001b[38;5;28misinstance\u001b[39m(casted_key, \u001b[38;5;28mslice\u001b[39m) \u001b[38;5;129;01mor\u001b[39;00m (\n\u001b[1;32m   3794\u001b[0m         \u001b[38;5;28misinstance\u001b[39m(casted_key, abc\u001b[38;5;241m.\u001b[39mIterable)\n\u001b[1;32m   3795\u001b[0m         \u001b[38;5;129;01mand\u001b[39;00m \u001b[38;5;28many\u001b[39m(\u001b[38;5;28misinstance\u001b[39m(x, \u001b[38;5;28mslice\u001b[39m) \u001b[38;5;28;01mfor\u001b[39;00m x \u001b[38;5;129;01min\u001b[39;00m casted_key)\n\u001b[1;32m   3796\u001b[0m     ):\n\u001b[1;32m   3797\u001b[0m         \u001b[38;5;28;01mraise\u001b[39;00m InvalidIndexError(key)\n\u001b[0;32m-> 3798\u001b[0m     \u001b[38;5;28;01mraise\u001b[39;00m \u001b[38;5;167;01mKeyError\u001b[39;00m(key) \u001b[38;5;28;01mfrom\u001b[39;00m \u001b[38;5;21;01merr\u001b[39;00m\n\u001b[1;32m   3799\u001b[0m \u001b[38;5;28;01mexcept\u001b[39;00m \u001b[38;5;167;01mTypeError\u001b[39;00m:\n\u001b[1;32m   3800\u001b[0m     \u001b[38;5;66;03m# If we have a listlike key, _check_indexing_error will raise\u001b[39;00m\n\u001b[1;32m   3801\u001b[0m     \u001b[38;5;66;03m#  InvalidIndexError. Otherwise we fall through and re-raise\u001b[39;00m\n\u001b[1;32m   3802\u001b[0m     \u001b[38;5;66;03m#  the TypeError.\u001b[39;00m\n\u001b[1;32m   3803\u001b[0m     \u001b[38;5;28mself\u001b[39m\u001b[38;5;241m.\u001b[39m_check_indexing_error(key)\n",
      "\u001b[0;31mKeyError\u001b[0m: 'accuracy_list'"
     ]
    }
   ],
   "source": [
    "df\n",
    "# df['accuracy_list'] = df['accuracy_list'].apply(pd.to_numeric, downcast='float')\n",
    "# df['loss_list'] = df['loss_list'].apply(pd.to_numeric, downcast='float')"
   ]
  },
  {
   "cell_type": "code",
   "execution_count": 23,
   "metadata": {},
   "outputs": [
    {
     "name": "stdout",
     "output_type": "stream",
     "text": [
      "|    |   model_id | model_name   | model_type            | training_date              |   training_duration |   epochs |   learning_rate |   accuracy |     loss |\n",
      "|---:|-----------:|:-------------|:----------------------|:---------------------------|--------------------:|---------:|----------------:|-----------:|---------:|\n",
      "|  0 |          1 | pima2        | binary classification | 2024-01-16 20:08:30.594091 |                   1 |       15 |           0.001 |   0.636719 | 0.691566 |\n"
     ]
    }
   ],
   "source": [
    "print(df.to_markdown())"
   ]
  },
  {
   "cell_type": "code",
   "execution_count": 7,
   "metadata": {},
   "outputs": [
    {
     "name": "stdout",
     "output_type": "stream",
     "text": [
      "Collecting tabulate\n",
      "  Downloading tabulate-0.9.0-py3-none-any.whl (35 kB)\n",
      "Installing collected packages: tabulate\n",
      "Successfully installed tabulate-0.9.0\n"
     ]
    }
   ],
   "source": [
    "!pip install tabulate"
   ]
  },
  {
   "cell_type": "code",
   "execution_count": null,
   "metadata": {},
   "outputs": [],
   "source": [
    "df"
   ]
  },
  {
   "cell_type": "code",
   "execution_count": 10,
   "metadata": {},
   "outputs": [
    {
     "data": {
      "text/plain": [
       "Index(['accuracy', 'loss'], dtype='object')"
      ]
     },
     "execution_count": 10,
     "metadata": {},
     "output_type": "execute_result"
    }
   ],
   "source": [
    "df.columns[7:9]"
   ]
  },
  {
   "cell_type": "code",
   "execution_count": null,
   "metadata": {},
   "outputs": [],
   "source": [
    "from bokeh.plotting import figure, show\n",
    "from bokeh.models import ColumnDataSource\n",
    "\n",
    "# create dict as basis for ColumnDataSource\n",
    "# data = {'x_values': [1, 2, 3, 4, 5],\n",
    "#         'y_values': [6, 7, 2, 3, 6]}\n",
    "\n",
    "# # create ColumnDataSource based on dict\n",
    "# source = ColumnDataSource(data=data)\n",
    "source = ColumnDataSource(df)\n",
    "\n",
    "# create a plot and renderer with ColumnDataSource data\n",
    "p = figure(height=250)\n",
    "p.circle(x='x_values', y='y_values', size=20, source=source)\n",
    "show(p)"
   ]
  },
  {
   "cell_type": "code",
   "execution_count": null,
   "metadata": {},
   "outputs": [],
   "source": [
    "# filter -- model name, model type \n",
    "# x -- epochs, learning rate, duration \n",
    "# y -- accuracy, loss \n",
    "\n",
    "\n",
    "import panel as pn\n",
    "\n",
    "pn.extension()\n",
    "\n",
    "x_cols = list(df.columns)[4:7]\n",
    "y_cols = list(df.columns)[7:9]\n",
    "\n",
    "\n",
    "x = pn.widgets.Select(name='x', options=x_cols)\n",
    "y = pn.widgets.Select(name='y', options=y_cols, value='accuracy')\n",
    "# n_clusters = pn.widgets.IntSlider(name='n_clusters', start=2, end=5, value=3)\n",
    "\n",
    "# explanation = pn.pane.Markdown(...)\n",
    "\n",
    "@pn.cache\n",
    "def get_chart(x, y, df):\n",
    "    centers = df.groupby('labels')[[x] if x == y else [x, y]].mean()\n",
    "    return (\n",
    "        alt.Chart(df)\n",
    "            .mark_point(size=100)\n",
    "            .encode(\n",
    "                x=alt.X(x, scale=alt.Scale(zero=False)),\n",
    "                y=alt.Y(y, scale=alt.Scale(zero=False)),\n",
    "                shape='labels',\n",
    "                color='species'\n",
    "            ).add_params(brush) +\n",
    "        alt.Chart(centers)\n",
    "            .mark_point(size=250, shape='cross', color='black')\n",
    "            .encode(x=x+':Q', y=y+':Q')\n",
    "    ).properties(width='container', height='container')\n",
    "\n",
    "interactive_plot = pn.bind(plot, x, y)\n",
    "\n",
    "pn.Row(\n",
    "    pn.WidgetBox(x, y),  \n",
    "    interactive_plot\n",
    ")\n"
   ]
  },
  {
   "cell_type": "code",
   "execution_count": null,
   "metadata": {},
   "outputs": [],
   "source": [
    "import panel as pn\n",
    "import hvplot.pandas\n",
    "import pandas as pd\n",
    "import numpy as np\n",
    "\n",
    "pn.extension(design='material')\n",
    "\n",
    "data = df\n",
    "\n",
    "data.tail()"
   ]
  },
  {
   "cell_type": "code",
   "execution_count": null,
   "metadata": {},
   "outputs": [],
   "source": [
    "### TODO:\n",
    "# get filter for model name / model type \n",
    "# control axes for \n",
    "\n",
    "def create_plot():\n",
    "    return data.hvplot.scatter(x='epochs', y='training_duration', by='model_name', height=400, width=400, legend=False)\n",
    "\n",
    "create_plot()"
   ]
  },
  {
   "cell_type": "code",
   "execution_count": null,
   "metadata": {},
   "outputs": [],
   "source": [
    "from bokeh.models import Select\n",
    "from bokeh.layouts import column, row\n",
    "\n",
    "TOOLTIPS=[\n",
    "    (\"Model Name\", \"@model_name\"),\n",
    "    (\"Model Type\", \"@model_type\")\n",
    "]\n",
    "axis_map = {\n",
    "    \"# of Epochs\": \"epochs\",\n",
    "    \"Accuracy\": \"accuracy\",\n",
    "    \"Training Duration\": \"training_duration\",\n",
    "    \"Learning Rate\": \"learning_rate\",\n",
    "    \"Loss\": \"loss\"\n",
    "}\n",
    "\n",
    "x_axis = Select(title=\"X Axis\", options=sorted(axis_map.keys()), value=\"# of Epochs\")\n",
    "y_axis = Select(title=\"Y Axis\", options=sorted(axis_map.keys()), value=\"Accuracy\")\n",
    "source = ColumnDataSource(\n",
    "    data=dict(\n",
    "        x=[], \n",
    "        y=[], \n",
    "        model_name=[], \n",
    "        model_type=[], \n",
    "        training_duration=[], \n",
    "        epochs=[], \n",
    "        learning_rate=[], \n",
    "        accuracy=[], \n",
    "        loss=[]\n",
    "    )\n",
    ")\n",
    "\n",
    "p = figure(height=600, title=\"\", toolbar_location=None, tooltips=TOOLTIPS, sizing_mode=\"stretch_width\")\n",
    "p.scatter(x=\"x\", y=\"y\", source=source, size=7, line_color=None)\n",
    "\n",
    "\n",
    "def update():\n",
    "    # df = select_movies()\n",
    "    x_name = axis_map[x_axis.value]\n",
    "    y_name = axis_map[y_axis.value]\n",
    "\n",
    "    p.xaxis.axis_label = x_axis.value\n",
    "    p.yaxis.axis_label = y_axis.value\n",
    "    p.title.text = f\"{len(df)} models selected\"\n",
    "    source.data = dict(\n",
    "        x=df[x_name],\n",
    "        y=df[y_name],\n",
    "        model_name=df[\"model_name\"], \n",
    "        model_type=df[\"model_type\"], \n",
    "        training_duration=df[\"training_duration\"], \n",
    "        epochs=df[\"epochs\"], \n",
    "        learning_rate=df[\"learning_rate\"], \n",
    "        accuracy=df[\"accuracy\"], \n",
    "        loss=df[\"loss\"]\n",
    "    )\n",
    "\n",
    "controls = [x_axis, y_axis]\n",
    "for control in controls:\n",
    "    control.on_change('value', lambda attr, old, new: update())\n",
    "\n",
    "inputs = column(*controls, width=320, height=800)\n",
    "layout = column(row(inputs, p, sizing_mode=\"inherit\"), sizing_mode=\"stretch_width\", height=800)\n",
    "\n",
    "update()\n",
    "\n",
    "show(p)"
   ]
  },
  {
   "cell_type": "code",
   "execution_count": null,
   "metadata": {},
   "outputs": [],
   "source": [
    "import seaborn as sns\n",
    "sns.palplot(sns.color_palette(\"Set2\", 8))"
   ]
  },
  {
   "cell_type": "code",
   "execution_count": null,
   "metadata": {},
   "outputs": [],
   "source": [
    "model_labels = df['model_name'].unique()"
   ]
  },
  {
   "cell_type": "code",
   "execution_count": null,
   "metadata": {},
   "outputs": [],
   "source": [
    "model_labels = df['model_name'].unique()\n",
    "\n",
    "\n",
    "rgb_values = sns.color_palette(\"Set2\", len(model_labels))\n",
    "color_map = dict(zip(model_labels, rgb_values))\n",
    "\n",
    "# # Finally use the mapped values\n",
    "# plt.scatter(df['epochs'], df['accuracy'], c=df['color'].map(color_map))"
   ]
  },
  {
   "cell_type": "code",
   "execution_count": null,
   "metadata": {},
   "outputs": [],
   "source": [
    "rgb_values"
   ]
  },
  {
   "cell_type": "code",
   "execution_count": null,
   "metadata": {},
   "outputs": [],
   "source": [
    "color_map"
   ]
  },
  {
   "cell_type": "code",
   "execution_count": null,
   "metadata": {},
   "outputs": [],
   "source": [
    "color_map\n",
    "\n",
    "df['color'] = df['model_name'].apply(lambda x: color_map.get(x))"
   ]
  },
  {
   "cell_type": "code",
   "execution_count": null,
   "metadata": {},
   "outputs": [],
   "source": [
    "df.iloc[0]"
   ]
  },
  {
   "cell_type": "code",
   "execution_count": null,
   "metadata": {},
   "outputs": [],
   "source": [
    "new = [12]\n",
    "# list(range(1, df.iloc[[new][0]]['epochs'] + 1))\n",
    "df.iloc[[new][0]]['accuracy_list']"
   ]
  },
  {
   "cell_type": "code",
   "execution_count": 24,
   "metadata": {},
   "outputs": [
    {
     "ename": "NameError",
     "evalue": "name 'figure' is not defined",
     "output_type": "error",
     "traceback": [
      "\u001b[0;31m---------------------------------------------------------------------------\u001b[0m",
      "\u001b[0;31mNameError\u001b[0m                                 Traceback (most recent call last)",
      "Cell \u001b[0;32mIn[24], line 2\u001b[0m\n\u001b[1;32m      1\u001b[0m new \u001b[38;5;241m=\u001b[39m [\u001b[38;5;241m12\u001b[39m]\n\u001b[0;32m----> 2\u001b[0m plot \u001b[38;5;241m=\u001b[39m \u001b[43mfigure\u001b[49m()\n\u001b[1;32m      3\u001b[0m \u001b[38;5;66;03m# print(new[0])\u001b[39;00m\n\u001b[1;32m      4\u001b[0m plot\u001b[38;5;241m.\u001b[39mline(x\u001b[38;5;241m=\u001b[39m\u001b[38;5;28mlist\u001b[39m(\u001b[38;5;28mrange\u001b[39m(\u001b[38;5;241m1\u001b[39m, df\u001b[38;5;241m.\u001b[39miloc[[new[\u001b[38;5;241m0\u001b[39m]][\u001b[38;5;241m0\u001b[39m]][\u001b[38;5;124m'\u001b[39m\u001b[38;5;124mepochs\u001b[39m\u001b[38;5;124m'\u001b[39m] \u001b[38;5;241m+\u001b[39m \u001b[38;5;241m1\u001b[39m)), y\u001b[38;5;241m=\u001b[39mdf\u001b[38;5;241m.\u001b[39miloc[[new[\u001b[38;5;241m0\u001b[39m]][\u001b[38;5;241m0\u001b[39m]][\u001b[38;5;124m'\u001b[39m\u001b[38;5;124maccuracy_list\u001b[39m\u001b[38;5;124m'\u001b[39m], legend_label\u001b[38;5;241m=\u001b[39m\u001b[38;5;28mstr\u001b[39m(\u001b[38;5;124m'\u001b[39m\u001b[38;5;124maccuracy_list\u001b[39m\u001b[38;5;124m'\u001b[39m), color\u001b[38;5;241m=\u001b[39m\u001b[38;5;124m'\u001b[39m\u001b[38;5;124mgreen\u001b[39m\u001b[38;5;124m'\u001b[39m)\n",
      "\u001b[0;31mNameError\u001b[0m: name 'figure' is not defined"
     ]
    }
   ],
   "source": [
    "new = [12]\n",
    "plot = figure()\n",
    "# print(new[0])\n",
    "plot.line(x=list(range(1, df.iloc[[new[0]][0]]['epochs'] + 1)), y=df.iloc[[new[0]][0]]['accuracy_list'], legend_label=str('accuracy_list'), color='green')\n",
    "plot.line(x=list(range(1, df.iloc[[new][0]]['epochs'] + 1)), y=df.iloc[[new][0]]['loss_list'], legend_label=str('loss_list'), color='red')\n",
    "show(plot)"
   ]
  },
  {
   "cell_type": "code",
   "execution_count": null,
   "metadata": {},
   "outputs": [],
   "source": []
  }
 ],
 "metadata": {
  "kernelspec": {
   "display_name": "ccb",
   "language": "python",
   "name": "python3"
  },
  "language_info": {
   "codemirror_mode": {
    "name": "ipython",
    "version": 3
   },
   "file_extension": ".py",
   "mimetype": "text/x-python",
   "name": "python",
   "nbconvert_exporter": "python",
   "pygments_lexer": "ipython3",
   "version": "3.10.13"
  }
 },
 "nbformat": 4,
 "nbformat_minor": 2
}
