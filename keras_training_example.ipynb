{
 "cells": [
  {
   "cell_type": "code",
   "execution_count": null,
   "id": "0b38b1d9",
   "metadata": {},
   "outputs": [],
   "source": [
    "from numpy import loadtxt\n",
    "from tensorflow.keras.models import Sequential\n",
    "from tensorflow.keras.layers import Dense\n",
    "from pathlib import Path\n",
    "from MetricsCallbackKeras import MetricsCallback\n",
    "import psycopg2\n",
    "import os"
   ]
  },
  {
   "cell_type": "markdown",
   "id": "7ca5b569",
   "metadata": {},
   "source": [
    "## Add Your DB Connection Details"
   ]
  },
  {
   "cell_type": "code",
   "execution_count": null,
   "id": "dc38ba92",
   "metadata": {},
   "outputs": [],
   "source": [
    "conn = psycopg2.connect(database=\"mt_metrics\",\n",
    "                        host=\"localhost\",\n",
    "                        user=\"jonah\",\n",
    "                        password=\"getting started\",\n",
    "                        port=5432)\n",
    "conn.autocommit = True"
   ]
  },
  {
   "cell_type": "code",
   "execution_count": null,
   "id": "7f79e806",
   "metadata": {},
   "outputs": [],
   "source": [
    "cursor = conn.cursor()"
   ]
  },
  {
   "cell_type": "markdown",
   "id": "ced46381",
   "metadata": {},
   "source": [
    "## Add Your Training Dataset"
   ]
  },
  {
   "cell_type": "code",
   "execution_count": null,
   "id": "803190b8",
   "metadata": {},
   "outputs": [],
   "source": [
    "pima_indians_csv = Path('data', 'pima-indians-diabetes.csv')\n",
    "# load the dataset\n",
    "dataset = loadtxt(pima_indians_csv, delimiter=',')\n",
    "# split into input (X) and output (y) variables\n",
    "X = dataset[:,0:8]\n",
    "y = dataset[:,8]"
   ]
  },
  {
   "cell_type": "markdown",
   "id": "47c6bf14",
   "metadata": {},
   "source": [
    "### Add your environment variables to identify your model in the metrics DB"
   ]
  },
  {
   "cell_type": "code",
   "execution_count": null,
   "id": "fc02affa",
   "metadata": {},
   "outputs": [],
   "source": [
    "os.environ['MODEL_NAME'] = \"pima2\"\n",
    "os.environ['MODEL_TYPE'] = \"binary classification\""
   ]
  },
  {
   "cell_type": "markdown",
   "id": "3c287ef3",
   "metadata": {},
   "source": [
    "### Build, Compile, and Train Your Model with the Custom Callback"
   ]
  },
  {
   "cell_type": "code",
   "execution_count": null,
   "id": "76840e2d",
   "metadata": {},
   "outputs": [],
   "source": [
    "# define the keras model\n",
    "model = Sequential()\n",
    "model.add(Dense(12, input_shape=(8,), activation='relu'))\n",
    "model.add(Dense(8, activation='relu'))\n",
    "model.add(Dense(1, activation='sigmoid'))"
   ]
  },
  {
   "cell_type": "code",
   "execution_count": null,
   "id": "e83751ed",
   "metadata": {},
   "outputs": [],
   "source": [
    "# compile the keras model\n",
    "model.compile(loss='binary_crossentropy', optimizer='adam', metrics=['accuracy'])"
   ]
  },
  {
   "cell_type": "code",
   "execution_count": null,
   "id": "d9d4021e",
   "metadata": {},
   "outputs": [],
   "source": [
    "# fit the keras model on the dataset with the added callback\n",
    "model.fit(X, y, epochs=15, batch_size=10, callbacks=[MetricsCallback(cursor)])"
   ]
  },
  {
   "cell_type": "code",
   "execution_count": null,
   "id": "981a46ea",
   "metadata": {},
   "outputs": [],
   "source": []
  }
 ],
 "metadata": {
  "kernelspec": {
   "display_name": "ccb",
   "language": "python",
   "name": "python3"
  },
  "language_info": {
   "codemirror_mode": {
    "name": "ipython",
    "version": 3
   },
   "file_extension": ".py",
   "mimetype": "text/x-python",
   "name": "python",
   "nbconvert_exporter": "python",
   "pygments_lexer": "ipython3",
   "version": "3.10.13"
  }
 },
 "nbformat": 4,
 "nbformat_minor": 5
}
