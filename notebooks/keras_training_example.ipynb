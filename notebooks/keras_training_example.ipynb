{
 "cells": [
  {
   "cell_type": "code",
   "execution_count": 1,
   "id": "0b38b1d9",
   "metadata": {},
   "outputs": [],
   "source": [
    "from numpy import loadtxt\n",
    "from tensorflow.keras.models import Sequential\n",
    "from tensorflow.keras.layers import Dense\n",
    "from pathlib import Path\n",
    "from MetricsCallbackKeras import MetricsCallback\n",
    "import matplotlib as plt\n",
    "import psycopg2\n",
    "import os"
   ]
  },
  {
   "cell_type": "markdown",
   "id": "7ca5b569",
   "metadata": {},
   "source": [
    "## Add Your DB Connection Details"
   ]
  },
  {
   "cell_type": "code",
   "execution_count": 2,
   "id": "dc38ba92",
   "metadata": {},
   "outputs": [],
   "source": [
    "conn = psycopg2.connect(database=\"mt_metrics\",\n",
    "                        host=\"localhost\",\n",
    "                        user=\"jonah\",\n",
    "                        password=\"getting started\",\n",
    "                        port=5432)\n",
    "conn.autocommit = True"
   ]
  },
  {
   "cell_type": "code",
   "execution_count": 3,
   "id": "7f79e806",
   "metadata": {},
   "outputs": [],
   "source": [
    "cursor = conn.cursor()"
   ]
  },
  {
   "cell_type": "markdown",
   "id": "ced46381",
   "metadata": {},
   "source": [
    "## Add Your Training Dataset"
   ]
  },
  {
   "cell_type": "code",
   "execution_count": 4,
   "id": "803190b8",
   "metadata": {},
   "outputs": [],
   "source": [
    "pima_indians_csv = Path('data', 'pima-indians-diabetes.csv')\n",
    "# load the dataset\n",
    "dataset = loadtxt(pima_indians_csv, delimiter=',')\n",
    "# split into input (X) and output (y) variables\n",
    "X = dataset[:,0:8]\n",
    "y = dataset[:,8]"
   ]
  },
  {
   "cell_type": "markdown",
   "id": "47c6bf14",
   "metadata": {},
   "source": [
    "### Add your environment variables to identify your model in the metrics DB"
   ]
  },
  {
   "cell_type": "code",
   "execution_count": 5,
   "id": "fc02affa",
   "metadata": {},
   "outputs": [],
   "source": [
    "os.environ['MODEL_NAME'] = \"pima2\"\n",
    "os.environ['MODEL_TYPE'] = \"binary classification\""
   ]
  },
  {
   "cell_type": "markdown",
   "id": "3c287ef3",
   "metadata": {},
   "source": [
    "### Build, Compile, and Train Your Model with the Custom Callback"
   ]
  },
  {
   "cell_type": "code",
   "execution_count": 6,
   "id": "76840e2d",
   "metadata": {},
   "outputs": [],
   "source": [
    "# define the keras model\n",
    "model = Sequential()\n",
    "model.add(Dense(12, input_shape=(8,), activation='relu'))\n",
    "model.add(Dense(8, activation='relu'))\n",
    "model.add(Dense(1, activation='sigmoid'))"
   ]
  },
  {
   "cell_type": "code",
   "execution_count": 7,
   "id": "e83751ed",
   "metadata": {},
   "outputs": [],
   "source": [
    "# compile the keras model\n",
    "model.compile(loss='binary_crossentropy', optimizer='adam', metrics=['accuracy'])"
   ]
  },
  {
   "cell_type": "code",
   "execution_count": 8,
   "id": "d9d4021e",
   "metadata": {},
   "outputs": [
    {
     "name": "stdout",
     "output_type": "stream",
     "text": [
      "Epoch 1/15\n",
      "77/77 [==============================] - 0s 527us/step - loss: 3.1316 - accuracy: 0.6094\n",
      "Epoch 2/15\n",
      "77/77 [==============================] - 0s 430us/step - loss: 1.5224 - accuracy: 0.6419\n",
      "Epoch 3/15\n",
      "77/77 [==============================] - 0s 417us/step - loss: 1.3604 - accuracy: 0.6263\n",
      "Epoch 4/15\n",
      "77/77 [==============================] - 0s 411us/step - loss: 1.1782 - accuracy: 0.6380\n",
      "Epoch 5/15\n",
      "77/77 [==============================] - 0s 406us/step - loss: 1.0639 - accuracy: 0.6367\n",
      "Epoch 6/15\n",
      "77/77 [==============================] - 0s 418us/step - loss: 0.9525 - accuracy: 0.6302\n",
      "Epoch 7/15\n",
      "77/77 [==============================] - 0s 412us/step - loss: 0.9352 - accuracy: 0.6276\n",
      "Epoch 8/15\n",
      "77/77 [==============================] - 0s 401us/step - loss: 0.8546 - accuracy: 0.6289\n",
      "Epoch 9/15\n",
      "77/77 [==============================] - 0s 395us/step - loss: 0.8285 - accuracy: 0.6237\n",
      "Epoch 10/15\n",
      "77/77 [==============================] - 0s 417us/step - loss: 0.7606 - accuracy: 0.6484\n",
      "Epoch 11/15\n",
      "77/77 [==============================] - 0s 403us/step - loss: 0.7470 - accuracy: 0.6341\n",
      "Epoch 12/15\n",
      "77/77 [==============================] - 0s 404us/step - loss: 0.7338 - accuracy: 0.6380\n",
      "Epoch 13/15\n",
      "77/77 [==============================] - 0s 392us/step - loss: 0.7243 - accuracy: 0.6471\n",
      "Epoch 14/15\n",
      "77/77 [==============================] - 0s 396us/step - loss: 0.7077 - accuracy: 0.6367\n",
      "Epoch 15/15\n",
      "77/77 [==============================] - 0s 387us/step - loss: 0.6916 - accuracy: 0.6367\n"
     ]
    },
    {
     "data": {
      "text/plain": [
       "<keras.src.callbacks.History at 0x1683a78e0>"
      ]
     },
     "execution_count": 8,
     "metadata": {},
     "output_type": "execute_result"
    }
   ],
   "source": [
    "# fit the keras model on the dataset with the added callback\n",
    "model.fit(X, y, epochs=15, batch_size=10, callbacks=[MetricsCallback(cursor)])"
   ]
  },
  {
   "cell_type": "code",
   "execution_count": null,
   "id": "981a46ea",
   "metadata": {},
   "outputs": [],
   "source": []
  }
 ],
 "metadata": {
  "kernelspec": {
   "display_name": "ccb",
   "language": "python",
   "name": "python3"
  },
  "language_info": {
   "codemirror_mode": {
    "name": "ipython",
    "version": 3
   },
   "file_extension": ".py",
   "mimetype": "text/x-python",
   "name": "python",
   "nbconvert_exporter": "python",
   "pygments_lexer": "ipython3",
   "version": "3.10.13"
  }
 },
 "nbformat": 4,
 "nbformat_minor": 5
}
